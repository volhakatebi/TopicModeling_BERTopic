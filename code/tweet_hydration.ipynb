{
 "cells": [
  {
   "cell_type": "markdown",
   "metadata": {},
   "source": [
    "#### Hydrate Tweets Using Tweet IDs"
   ]
  },
  {
   "cell_type": "code",
   "execution_count": null,
   "metadata": {},
   "outputs": [],
   "source": [
    "from twarc import Twarc\n",
    "import pandas as pd\n",
    "from tqdm.notebook import tqdm\n",
    "consumer_key=\"ENTER CONSUMER KEY\"\n",
    "consumer_secret=\"ENTER CONSUMER SECRET\"\n",
    "access_token=\"ENTER ACCESS TOKEN\"\n",
    "access_token_secret=\"ENTER ACCESS TOKEN SECRET\""
   ]
  },
  {
   "cell_type": "code",
   "execution_count": null,
   "metadata": {},
   "outputs": [],
   "source": [
    "t = Twarc(consumer_key, consumer_secret, access_token, access_token_secret)\n",
    "cols = ['created_at', 'id', 'id_str', 'full_text', \n",
    "        'truncated', 'display_text_range', 'entities',\n",
    "        'source', 'in_reply_to_status_id', 'in_reply_to_status_id_str', \n",
    "        'in_reply_to_user_id', 'in_reply_to_user_id_str', 'in_reply_to_screen_name',\n",
    "        'user', 'geo', 'coordinates', 'place', 'contributors', 'is_quote_status', \n",
    "        'retweet_count', 'favorite_count', 'favorited', 'retweeted', 'lang']\n",
    "df = pd.DataFrame(columns=cols)\n",
    "hydrater = t.hydrate(open('ids.txt'))\n",
    "\n",
    "while True:\n",
    "    try:\n",
    "        tweet = next(hydrater)\n",
    "    except StopIteration:\n",
    "        print('done!')\n",
    "        break\n",
    "    except Exception as e:\n",
    "        print(e)\n",
    "    try:\n",
    "        df = df.append(tweet, ignore_index=True)\n",
    "    except Exception as e:\n",
    "        print(e)"
   ]
  },
  {
   "cell_type": "code",
   "execution_count": null,
   "metadata": {},
   "outputs": [],
   "source": [
    "df.to_csv(\"tweets_hydrated.csv\")"
   ]
  }
 ],
 "metadata": {
  "kernelspec": {
   "display_name": "Python [conda env:Twitter]",
   "language": "python",
   "name": "conda-env-Twitter-py"
  },
  "language_info": {
   "codemirror_mode": {
    "name": "ipython",
    "version": 3
   },
   "file_extension": ".py",
   "mimetype": "text/x-python",
   "name": "python",
   "nbconvert_exporter": "python",
   "pygments_lexer": "ipython3",
   "version": "3.10.8"
  }
 },
 "nbformat": 4,
 "nbformat_minor": 4
}
